{
  "nbformat": 4,
  "nbformat_minor": 0,
  "metadata": {
    "colab": {
      "provenance": []
    },
    "kernelspec": {
      "name": "python3",
      "display_name": "Python 3"
    },
    "language_info": {
      "name": "python"
    }
  },
  "cells": [
    {
      "cell_type": "markdown",
      "source": [
        "<h1>Variabel dan Tipe Data Phyton</h1><hr>\n",
        "<font color=\"blue\">Beberapa</font> aturan pembuatan variabel di <b>phyton</b>:\n",
        "\n",
        "<ol>\n",
        "    <li>Bersifat case sensitif => A !=a</li>\n",
        "    <li>Harus diawali dengan huruf atau karakter _(underscore)</li>\n",
        "    <li>Tidak boleh menggunakan spasi</li>\n",
        "    <li>Boleh menggunakan angka</li>\n",
        "\n",
        "    </ol>"
      ],
      "metadata": {
        "id": "PQcR-nwkrKHz"
      }
    },
    {
      "cell_type": "code",
      "source": [
        "data_int = 10\n",
        "data_float = 100.9\n",
        "data_string = '1'\n",
        "data_bool = True\n",
        "\n",
        "print(data_int)\n",
        "print(data_float)\n",
        "print(data_string)\n",
        "print(data_bool)"
      ],
      "metadata": {
        "colab": {
          "base_uri": "https://localhost:8080/"
        },
        "id": "9A4E6gGhrSOi",
        "outputId": "21f71aeb-4434-449b-f75e-5f77c7aac5f0"
      },
      "execution_count": 3,
      "outputs": [
        {
          "output_type": "stream",
          "name": "stdout",
          "text": [
            "10\n",
            "100.9\n",
            "1\n",
            "True\n"
          ]
        }
      ]
    },
    {
      "cell_type": "code",
      "source": [
        "print(type(data_int))\n",
        "print(type(data_float))\n",
        "print(type(data_string))\n",
        "print(type(data_bool))\n",
        "\n"
      ],
      "metadata": {
        "colab": {
          "base_uri": "https://localhost:8080/"
        },
        "id": "jV6EEaXqsFkx",
        "outputId": "a574feab-0a2c-435f-c7c8-43c074107068"
      },
      "execution_count": 4,
      "outputs": [
        {
          "output_type": "stream",
          "name": "stdout",
          "text": [
            "<class 'int'>\n",
            "<class 'float'>\n",
            "<class 'str'>\n",
            "<class 'bool'>\n"
          ]
        }
      ]
    },
    {
      "cell_type": "markdown",
      "source": [
        "Pada phyton terdapat proses <b>CASTING</b> yaitu konversi dari sebuah tipe data ke tipe data yang lain yaitu dengan sintaks <b>tipe_data(nama_variabel)</b>"
      ],
      "metadata": {
        "id": "oiliT71ntA4w"
      }
    },
    {
      "cell_type": "code",
      "source": [
        "int_to_float = float(data_int)\n",
        "int_to_string = str(data_int)\n",
        "int_to_bool = bool(data_int)\n",
        "\n",
        "print(\"Nilai variabel data_int\" ,data_int)\n",
        "print(int_to_float)\n",
        "print(int_to_string)\n",
        "print(int_to_bool)"
      ],
      "metadata": {
        "colab": {
          "base_uri": "https://localhost:8080/"
        },
        "id": "ePYXe-IGuEZT",
        "outputId": "450436a5-0b49-4aa4-bc14-921ff4ba0a35"
      },
      "execution_count": 5,
      "outputs": [
        {
          "output_type": "stream",
          "name": "stdout",
          "text": [
            "Nilai variabel data_int 10\n",
            "10.0\n",
            "10\n",
            "True\n"
          ]
        }
      ]
    },
    {
      "cell_type": "code",
      "source": [
        "float_to_int = int(data_float)\n",
        "float_to_string = str(data_float)\n",
        "float_to_bool = bool(data_float)\n",
        "\n",
        "print(\"Nilai variabel data_float\" ,data_float)\n",
        "print(float_to_int)\n",
        "print(float_to_string)\n",
        "print(float_to_bool)"
      ],
      "metadata": {
        "colab": {
          "base_uri": "https://localhost:8080/"
        },
        "id": "he35t5Dkvt37",
        "outputId": "1172fa94-ae5f-4572-9de2-db2bb127c1f2"
      },
      "execution_count": 8,
      "outputs": [
        {
          "output_type": "stream",
          "name": "stdout",
          "text": [
            "Nilai variabel data_float 100.9\n",
            "100\n",
            "100.9\n",
            "True\n"
          ]
        }
      ]
    },
    {
      "cell_type": "code",
      "source": [
        "string_to_float = float(data_string)\n",
        "string_to_int = int(data_string)\n",
        "string_to_bool = bool(data_string)\n",
        "\n",
        "print(\"Nilai variabel data_string\" ,data_string)\n",
        "print(string_to_float)\n",
        "print(string_to_int)\n",
        "print(string_to_bool)"
      ],
      "metadata": {
        "colab": {
          "base_uri": "https://localhost:8080/"
        },
        "id": "hmc_6A4zxfbk",
        "outputId": "a6a3a94f-b52b-49ac-add9-cccd1c8bb504"
      },
      "execution_count": 9,
      "outputs": [
        {
          "output_type": "stream",
          "name": "stdout",
          "text": [
            "Nilai variabel data_string 1\n",
            "1.0\n",
            "1\n",
            "True\n"
          ]
        }
      ]
    },
    {
      "cell_type": "code",
      "source": [
        "bool_to_float = float(data_bool)\n",
        "bool_to_string = str(data_bool)\n",
        "bool_to_int = int(data_bool)\n",
        "\n",
        "print(\"Nilai variabel data_bool\" ,data_bool)\n",
        "print(bool_to_float)\n",
        "print(bool_to_string)\n",
        "print(bool_to_int)"
      ],
      "metadata": {
        "colab": {
          "base_uri": "https://localhost:8080/"
        },
        "id": "6fm_AfncyzA0",
        "outputId": "8bf0fc4b-fbb8-4ed7-ba8b-e352cbfff069"
      },
      "execution_count": 11,
      "outputs": [
        {
          "output_type": "stream",
          "name": "stdout",
          "text": [
            "Nilai variabel data_bool True\n",
            "1.0\n",
            "True\n",
            "1\n"
          ]
        }
      ]
    },
    {
      "cell_type": "code",
      "source": [
        "bil1 = int(input(\"isikan bilangan 1:\"))\n",
        "bil2 = int(input(\"isikan bilangan 2:\"))\n",
        "hasil_tambah = bil1 + bil2\n",
        "hasil_bagi = bil1 / bil2\n",
        "print(\"Hasil penjumlahan\",hasil_tambah)\n",
        "print(\"Hasil pembagian\",hasil_bagi)"
      ],
      "metadata": {
        "colab": {
          "base_uri": "https://localhost:8080/"
        },
        "id": "TsJkTKfG0j-x",
        "outputId": "a317ffe9-e82a-4717-b358-09b93f035177"
      },
      "execution_count": 8,
      "outputs": [
        {
          "output_type": "stream",
          "name": "stdout",
          "text": [
            "isikan bilangan 1:5\n",
            "isikan bilangan 2:6\n",
            "Hasil penjumlahan 11\n",
            "Hasil pembagian 0.8333333333333334\n"
          ]
        }
      ]
    }
  ]
}